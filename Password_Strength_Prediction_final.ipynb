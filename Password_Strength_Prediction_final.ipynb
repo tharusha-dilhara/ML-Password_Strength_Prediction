{
  "nbformat": 4,
  "nbformat_minor": 0,
  "metadata": {
    "colab": {
      "provenance": []
    },
    "kernelspec": {
      "name": "python3",
      "display_name": "Python 3"
    },
    "language_info": {
      "name": "python"
    }
  },
  "cells": [
    {
      "cell_type": "code",
      "execution_count": null,
      "metadata": {
        "id": "jxUNwHFNgw1B"
      },
      "outputs": [],
      "source": [
        "import pandas as pd\n",
        "import numpy as np\n",
        "import seaborn as sns\n",
        "import warnings\n",
        "warnings.filterwarnings('ignore')"
      ]
    },
    {
      "cell_type": "code",
      "source": [
        "data=pd.read_csv('https://raw.githubusercontent.com/iamvatsalpatel/Safe-Password/main/data.csv',error_bad_lines=False)"
      ],
      "metadata": {
        "colab": {
          "base_uri": "https://localhost:8080/"
        },
        "id": "5URycJSHhQly",
        "outputId": "077dbe28-add3-45a5-ee6c-122a77245f48"
      },
      "execution_count": null,
      "outputs": [
        {
          "output_type": "stream",
          "name": "stderr",
          "text": [
            "Skipping line 2810: expected 2 fields, saw 5\n",
            "Skipping line 4641: expected 2 fields, saw 5\n",
            "Skipping line 7171: expected 2 fields, saw 5\n",
            "Skipping line 11220: expected 2 fields, saw 5\n",
            "Skipping line 13809: expected 2 fields, saw 5\n",
            "Skipping line 14132: expected 2 fields, saw 5\n",
            "Skipping line 14293: expected 2 fields, saw 5\n",
            "Skipping line 14865: expected 2 fields, saw 5\n",
            "Skipping line 17419: expected 2 fields, saw 5\n",
            "Skipping line 22801: expected 2 fields, saw 5\n",
            "Skipping line 25001: expected 2 fields, saw 5\n",
            "Skipping line 26603: expected 2 fields, saw 5\n",
            "Skipping line 26742: expected 2 fields, saw 5\n",
            "Skipping line 29702: expected 2 fields, saw 5\n",
            "Skipping line 32767: expected 2 fields, saw 5\n",
            "Skipping line 32878: expected 2 fields, saw 5\n",
            "Skipping line 35643: expected 2 fields, saw 5\n",
            "Skipping line 36550: expected 2 fields, saw 5\n",
            "Skipping line 38732: expected 2 fields, saw 5\n",
            "Skipping line 40567: expected 2 fields, saw 5\n",
            "Skipping line 40576: expected 2 fields, saw 5\n",
            "Skipping line 41864: expected 2 fields, saw 5\n",
            "Skipping line 46861: expected 2 fields, saw 5\n",
            "Skipping line 47939: expected 2 fields, saw 5\n",
            "Skipping line 48628: expected 2 fields, saw 5\n",
            "Skipping line 48908: expected 2 fields, saw 5\n",
            "Skipping line 57582: expected 2 fields, saw 5\n",
            "Skipping line 58782: expected 2 fields, saw 5\n",
            "Skipping line 58984: expected 2 fields, saw 5\n",
            "Skipping line 61518: expected 2 fields, saw 5\n",
            "Skipping line 63451: expected 2 fields, saw 5\n",
            "Skipping line 68141: expected 2 fields, saw 5\n",
            "Skipping line 72083: expected 2 fields, saw 5\n",
            "Skipping line 74027: expected 2 fields, saw 5\n",
            "Skipping line 77811: expected 2 fields, saw 5\n",
            "Skipping line 83958: expected 2 fields, saw 5\n",
            "Skipping line 85295: expected 2 fields, saw 5\n",
            "Skipping line 88665: expected 2 fields, saw 5\n",
            "Skipping line 89198: expected 2 fields, saw 5\n",
            "Skipping line 92499: expected 2 fields, saw 5\n",
            "Skipping line 92751: expected 2 fields, saw 5\n",
            "Skipping line 93689: expected 2 fields, saw 5\n",
            "Skipping line 94776: expected 2 fields, saw 5\n",
            "Skipping line 97334: expected 2 fields, saw 5\n",
            "Skipping line 102316: expected 2 fields, saw 5\n",
            "Skipping line 103421: expected 2 fields, saw 5\n",
            "Skipping line 106872: expected 2 fields, saw 5\n",
            "Skipping line 109363: expected 2 fields, saw 5\n",
            "Skipping line 110117: expected 2 fields, saw 5\n",
            "Skipping line 110465: expected 2 fields, saw 5\n",
            "Skipping line 113843: expected 2 fields, saw 5\n",
            "Skipping line 115634: expected 2 fields, saw 5\n",
            "Skipping line 121518: expected 2 fields, saw 5\n",
            "Skipping line 123692: expected 2 fields, saw 5\n",
            "Skipping line 124708: expected 2 fields, saw 5\n",
            "Skipping line 129608: expected 2 fields, saw 5\n",
            "Skipping line 133176: expected 2 fields, saw 5\n",
            "Skipping line 135532: expected 2 fields, saw 5\n",
            "Skipping line 138042: expected 2 fields, saw 5\n",
            "Skipping line 139485: expected 2 fields, saw 5\n",
            "Skipping line 140401: expected 2 fields, saw 5\n",
            "Skipping line 144093: expected 2 fields, saw 5\n",
            "Skipping line 149850: expected 2 fields, saw 5\n",
            "Skipping line 151831: expected 2 fields, saw 5\n",
            "Skipping line 158014: expected 2 fields, saw 5\n",
            "Skipping line 162047: expected 2 fields, saw 5\n",
            "Skipping line 164515: expected 2 fields, saw 5\n",
            "Skipping line 170313: expected 2 fields, saw 5\n",
            "Skipping line 171325: expected 2 fields, saw 5\n",
            "Skipping line 171424: expected 2 fields, saw 5\n",
            "Skipping line 175920: expected 2 fields, saw 5\n",
            "Skipping line 176210: expected 2 fields, saw 5\n",
            "Skipping line 183603: expected 2 fields, saw 5\n",
            "Skipping line 190264: expected 2 fields, saw 5\n",
            "Skipping line 191683: expected 2 fields, saw 5\n",
            "Skipping line 191988: expected 2 fields, saw 5\n",
            "Skipping line 195450: expected 2 fields, saw 5\n",
            "Skipping line 195754: expected 2 fields, saw 5\n",
            "Skipping line 197124: expected 2 fields, saw 5\n",
            "Skipping line 199263: expected 2 fields, saw 5\n",
            "Skipping line 202603: expected 2 fields, saw 5\n",
            "Skipping line 209960: expected 2 fields, saw 5\n",
            "Skipping line 213218: expected 2 fields, saw 5\n",
            "Skipping line 217060: expected 2 fields, saw 5\n",
            "Skipping line 220121: expected 2 fields, saw 5\n",
            "Skipping line 223518: expected 2 fields, saw 5\n",
            "Skipping line 226293: expected 2 fields, saw 5\n",
            "Skipping line 227035: expected 2 fields, saw 7\n",
            "Skipping line 227341: expected 2 fields, saw 5\n",
            "Skipping line 227808: expected 2 fields, saw 5\n",
            "Skipping line 228516: expected 2 fields, saw 5\n",
            "Skipping line 228733: expected 2 fields, saw 5\n",
            "Skipping line 232043: expected 2 fields, saw 5\n",
            "Skipping line 232426: expected 2 fields, saw 5\n",
            "Skipping line 234490: expected 2 fields, saw 5\n",
            "Skipping line 239626: expected 2 fields, saw 5\n",
            "Skipping line 240461: expected 2 fields, saw 5\n",
            "Skipping line 244518: expected 2 fields, saw 5\n",
            "Skipping line 245395: expected 2 fields, saw 5\n",
            "Skipping line 246168: expected 2 fields, saw 5\n",
            "Skipping line 246655: expected 2 fields, saw 5\n",
            "Skipping line 246752: expected 2 fields, saw 5\n",
            "Skipping line 247189: expected 2 fields, saw 5\n",
            "Skipping line 250276: expected 2 fields, saw 5\n",
            "Skipping line 255327: expected 2 fields, saw 5\n",
            "Skipping line 257094: expected 2 fields, saw 5\n",
            "\n",
            "Skipping line 264626: expected 2 fields, saw 5\n",
            "Skipping line 265028: expected 2 fields, saw 5\n",
            "Skipping line 269150: expected 2 fields, saw 5\n",
            "Skipping line 271360: expected 2 fields, saw 5\n",
            "Skipping line 273975: expected 2 fields, saw 5\n",
            "Skipping line 274742: expected 2 fields, saw 5\n",
            "Skipping line 276227: expected 2 fields, saw 5\n",
            "Skipping line 279807: expected 2 fields, saw 5\n",
            "Skipping line 283425: expected 2 fields, saw 5\n",
            "Skipping line 287468: expected 2 fields, saw 5\n",
            "Skipping line 292995: expected 2 fields, saw 5\n",
            "Skipping line 293496: expected 2 fields, saw 5\n",
            "Skipping line 293735: expected 2 fields, saw 5\n",
            "Skipping line 295060: expected 2 fields, saw 5\n",
            "Skipping line 296643: expected 2 fields, saw 5\n",
            "Skipping line 296848: expected 2 fields, saw 5\n",
            "Skipping line 308926: expected 2 fields, saw 5\n",
            "Skipping line 310360: expected 2 fields, saw 5\n",
            "Skipping line 317004: expected 2 fields, saw 5\n",
            "Skipping line 318207: expected 2 fields, saw 5\n",
            "Skipping line 331783: expected 2 fields, saw 5\n",
            "Skipping line 333864: expected 2 fields, saw 5\n",
            "Skipping line 335958: expected 2 fields, saw 5\n",
            "Skipping line 336290: expected 2 fields, saw 5\n",
            "Skipping line 343526: expected 2 fields, saw 5\n",
            "Skipping line 343857: expected 2 fields, saw 5\n",
            "Skipping line 344059: expected 2 fields, saw 5\n",
            "Skipping line 348691: expected 2 fields, saw 5\n",
            "Skipping line 353446: expected 2 fields, saw 5\n",
            "Skipping line 357073: expected 2 fields, saw 5\n",
            "Skipping line 359753: expected 2 fields, saw 5\n",
            "Skipping line 359974: expected 2 fields, saw 5\n",
            "Skipping line 366534: expected 2 fields, saw 5\n",
            "Skipping line 369514: expected 2 fields, saw 5\n",
            "Skipping line 377759: expected 2 fields, saw 5\n",
            "Skipping line 379327: expected 2 fields, saw 5\n",
            "Skipping line 380769: expected 2 fields, saw 5\n",
            "Skipping line 381073: expected 2 fields, saw 5\n",
            "Skipping line 381489: expected 2 fields, saw 5\n",
            "Skipping line 386304: expected 2 fields, saw 5\n",
            "Skipping line 387635: expected 2 fields, saw 5\n",
            "Skipping line 389613: expected 2 fields, saw 5\n",
            "Skipping line 392604: expected 2 fields, saw 5\n",
            "Skipping line 393184: expected 2 fields, saw 5\n",
            "Skipping line 395530: expected 2 fields, saw 5\n",
            "Skipping line 396939: expected 2 fields, saw 5\n",
            "Skipping line 397385: expected 2 fields, saw 5\n",
            "Skipping line 397509: expected 2 fields, saw 5\n",
            "Skipping line 402902: expected 2 fields, saw 5\n",
            "Skipping line 405187: expected 2 fields, saw 5\n",
            "Skipping line 408412: expected 2 fields, saw 5\n",
            "Skipping line 419423: expected 2 fields, saw 5\n",
            "Skipping line 420962: expected 2 fields, saw 5\n",
            "Skipping line 425965: expected 2 fields, saw 5\n",
            "Skipping line 427496: expected 2 fields, saw 5\n",
            "Skipping line 438881: expected 2 fields, saw 5\n",
            "Skipping line 439776: expected 2 fields, saw 5\n",
            "Skipping line 440345: expected 2 fields, saw 5\n",
            "Skipping line 445507: expected 2 fields, saw 5\n",
            "Skipping line 445548: expected 2 fields, saw 5\n",
            "Skipping line 447184: expected 2 fields, saw 5\n",
            "Skipping line 448603: expected 2 fields, saw 5\n",
            "Skipping line 451732: expected 2 fields, saw 5\n",
            "Skipping line 458249: expected 2 fields, saw 5\n",
            "Skipping line 460274: expected 2 fields, saw 5\n",
            "Skipping line 467630: expected 2 fields, saw 5\n",
            "Skipping line 473961: expected 2 fields, saw 5\n",
            "Skipping line 476281: expected 2 fields, saw 5\n",
            "Skipping line 478010: expected 2 fields, saw 5\n",
            "Skipping line 478322: expected 2 fields, saw 5\n",
            "Skipping line 479999: expected 2 fields, saw 5\n",
            "Skipping line 480898: expected 2 fields, saw 5\n",
            "Skipping line 481688: expected 2 fields, saw 5\n",
            "Skipping line 485193: expected 2 fields, saw 5\n",
            "Skipping line 485519: expected 2 fields, saw 5\n",
            "Skipping line 486000: expected 2 fields, saw 5\n",
            "Skipping line 489063: expected 2 fields, saw 5\n",
            "Skipping line 494525: expected 2 fields, saw 5\n",
            "Skipping line 495009: expected 2 fields, saw 5\n",
            "Skipping line 501954: expected 2 fields, saw 5\n",
            "Skipping line 508035: expected 2 fields, saw 5\n",
            "Skipping line 508828: expected 2 fields, saw 5\n",
            "Skipping line 509833: expected 2 fields, saw 5\n",
            "Skipping line 510410: expected 2 fields, saw 5\n",
            "Skipping line 518229: expected 2 fields, saw 5\n",
            "Skipping line 520302: expected 2 fields, saw 5\n",
            "Skipping line 520340: expected 2 fields, saw 5\n",
            "\n",
            "Skipping line 525174: expected 2 fields, saw 5\n",
            "Skipping line 526251: expected 2 fields, saw 5\n",
            "Skipping line 529611: expected 2 fields, saw 5\n",
            "Skipping line 531398: expected 2 fields, saw 5\n",
            "Skipping line 534146: expected 2 fields, saw 5\n",
            "Skipping line 544954: expected 2 fields, saw 5\n",
            "Skipping line 553002: expected 2 fields, saw 5\n",
            "Skipping line 553883: expected 2 fields, saw 5\n",
            "Skipping line 553887: expected 2 fields, saw 5\n",
            "Skipping line 553915: expected 2 fields, saw 5\n",
            "Skipping line 554172: expected 2 fields, saw 5\n",
            "Skipping line 563534: expected 2 fields, saw 5\n",
            "Skipping line 565191: expected 2 fields, saw 5\n",
            "Skipping line 574108: expected 2 fields, saw 5\n",
            "Skipping line 574412: expected 2 fields, saw 5\n",
            "Skipping line 575985: expected 2 fields, saw 5\n",
            "Skipping line 580091: expected 2 fields, saw 5\n",
            "Skipping line 582682: expected 2 fields, saw 5\n",
            "Skipping line 585885: expected 2 fields, saw 5\n",
            "Skipping line 590171: expected 2 fields, saw 5\n",
            "Skipping line 591924: expected 2 fields, saw 5\n",
            "Skipping line 592515: expected 2 fields, saw 5\n",
            "Skipping line 593888: expected 2 fields, saw 5\n",
            "Skipping line 596245: expected 2 fields, saw 5\n",
            "Skipping line 607344: expected 2 fields, saw 5\n",
            "Skipping line 607633: expected 2 fields, saw 5\n",
            "Skipping line 610939: expected 2 fields, saw 5\n",
            "Skipping line 613638: expected 2 fields, saw 5\n",
            "Skipping line 615643: expected 2 fields, saw 5\n",
            "Skipping line 615901: expected 2 fields, saw 5\n",
            "Skipping line 617389: expected 2 fields, saw 5\n",
            "Skipping line 634641: expected 2 fields, saw 5\n",
            "Skipping line 635755: expected 2 fields, saw 5\n",
            "Skipping line 646243: expected 2 fields, saw 5\n",
            "Skipping line 647165: expected 2 fields, saw 5\n",
            "Skipping line 648610: expected 2 fields, saw 5\n",
            "Skipping line 648772: expected 2 fields, saw 5\n",
            "Skipping line 651833: expected 2 fields, saw 5\n",
            "Skipping line 653663: expected 2 fields, saw 5\n",
            "Skipping line 656233: expected 2 fields, saw 5\n",
            "Skipping line 656694: expected 2 fields, saw 5\n",
            "Skipping line 659783: expected 2 fields, saw 5\n",
            "Skipping line 660478: expected 2 fields, saw 5\n",
            "Skipping line 661133: expected 2 fields, saw 5\n",
            "Skipping line 661736: expected 2 fields, saw 5\n",
            "Skipping line 669827: expected 2 fields, saw 5\n",
            "\n"
          ]
        }
      ]
    },
    {
      "cell_type": "code",
      "source": [
        "data.head(5)"
      ],
      "metadata": {
        "colab": {
          "base_uri": "https://localhost:8080/",
          "height": 206
        },
        "id": "8ZVtRyIjhkqk",
        "outputId": "ee016434-8e95-4ec4-9926-ccba15e23beb"
      },
      "execution_count": null,
      "outputs": [
        {
          "output_type": "execute_result",
          "data": {
            "text/plain": [
              "      password  strength\n",
              "0     kzde5577         1\n",
              "1     kino3434         1\n",
              "2    visi7k1yr         1\n",
              "3     megzy123         1\n",
              "4  lamborghin1         1"
            ],
            "text/html": [
              "\n",
              "  <div id=\"df-8dd3e178-b29f-455f-a139-0d8abe1ceee2\">\n",
              "    <div class=\"colab-df-container\">\n",
              "      <div>\n",
              "<style scoped>\n",
              "    .dataframe tbody tr th:only-of-type {\n",
              "        vertical-align: middle;\n",
              "    }\n",
              "\n",
              "    .dataframe tbody tr th {\n",
              "        vertical-align: top;\n",
              "    }\n",
              "\n",
              "    .dataframe thead th {\n",
              "        text-align: right;\n",
              "    }\n",
              "</style>\n",
              "<table border=\"1\" class=\"dataframe\">\n",
              "  <thead>\n",
              "    <tr style=\"text-align: right;\">\n",
              "      <th></th>\n",
              "      <th>password</th>\n",
              "      <th>strength</th>\n",
              "    </tr>\n",
              "  </thead>\n",
              "  <tbody>\n",
              "    <tr>\n",
              "      <th>0</th>\n",
              "      <td>kzde5577</td>\n",
              "      <td>1</td>\n",
              "    </tr>\n",
              "    <tr>\n",
              "      <th>1</th>\n",
              "      <td>kino3434</td>\n",
              "      <td>1</td>\n",
              "    </tr>\n",
              "    <tr>\n",
              "      <th>2</th>\n",
              "      <td>visi7k1yr</td>\n",
              "      <td>1</td>\n",
              "    </tr>\n",
              "    <tr>\n",
              "      <th>3</th>\n",
              "      <td>megzy123</td>\n",
              "      <td>1</td>\n",
              "    </tr>\n",
              "    <tr>\n",
              "      <th>4</th>\n",
              "      <td>lamborghin1</td>\n",
              "      <td>1</td>\n",
              "    </tr>\n",
              "  </tbody>\n",
              "</table>\n",
              "</div>\n",
              "      <button class=\"colab-df-convert\" onclick=\"convertToInteractive('df-8dd3e178-b29f-455f-a139-0d8abe1ceee2')\"\n",
              "              title=\"Convert this dataframe to an interactive table.\"\n",
              "              style=\"display:none;\">\n",
              "        \n",
              "  <svg xmlns=\"http://www.w3.org/2000/svg\" height=\"24px\"viewBox=\"0 0 24 24\"\n",
              "       width=\"24px\">\n",
              "    <path d=\"M0 0h24v24H0V0z\" fill=\"none\"/>\n",
              "    <path d=\"M18.56 5.44l.94 2.06.94-2.06 2.06-.94-2.06-.94-.94-2.06-.94 2.06-2.06.94zm-11 1L8.5 8.5l.94-2.06 2.06-.94-2.06-.94L8.5 2.5l-.94 2.06-2.06.94zm10 10l.94 2.06.94-2.06 2.06-.94-2.06-.94-.94-2.06-.94 2.06-2.06.94z\"/><path d=\"M17.41 7.96l-1.37-1.37c-.4-.4-.92-.59-1.43-.59-.52 0-1.04.2-1.43.59L10.3 9.45l-7.72 7.72c-.78.78-.78 2.05 0 2.83L4 21.41c.39.39.9.59 1.41.59.51 0 1.02-.2 1.41-.59l7.78-7.78 2.81-2.81c.8-.78.8-2.07 0-2.86zM5.41 20L4 18.59l7.72-7.72 1.47 1.35L5.41 20z\"/>\n",
              "  </svg>\n",
              "      </button>\n",
              "      \n",
              "  <style>\n",
              "    .colab-df-container {\n",
              "      display:flex;\n",
              "      flex-wrap:wrap;\n",
              "      gap: 12px;\n",
              "    }\n",
              "\n",
              "    .colab-df-convert {\n",
              "      background-color: #E8F0FE;\n",
              "      border: none;\n",
              "      border-radius: 50%;\n",
              "      cursor: pointer;\n",
              "      display: none;\n",
              "      fill: #1967D2;\n",
              "      height: 32px;\n",
              "      padding: 0 0 0 0;\n",
              "      width: 32px;\n",
              "    }\n",
              "\n",
              "    .colab-df-convert:hover {\n",
              "      background-color: #E2EBFA;\n",
              "      box-shadow: 0px 1px 2px rgba(60, 64, 67, 0.3), 0px 1px 3px 1px rgba(60, 64, 67, 0.15);\n",
              "      fill: #174EA6;\n",
              "    }\n",
              "\n",
              "    [theme=dark] .colab-df-convert {\n",
              "      background-color: #3B4455;\n",
              "      fill: #D2E3FC;\n",
              "    }\n",
              "\n",
              "    [theme=dark] .colab-df-convert:hover {\n",
              "      background-color: #434B5C;\n",
              "      box-shadow: 0px 1px 3px 1px rgba(0, 0, 0, 0.15);\n",
              "      filter: drop-shadow(0px 1px 2px rgba(0, 0, 0, 0.3));\n",
              "      fill: #FFFFFF;\n",
              "    }\n",
              "  </style>\n",
              "\n",
              "      <script>\n",
              "        const buttonEl =\n",
              "          document.querySelector('#df-8dd3e178-b29f-455f-a139-0d8abe1ceee2 button.colab-df-convert');\n",
              "        buttonEl.style.display =\n",
              "          google.colab.kernel.accessAllowed ? 'block' : 'none';\n",
              "\n",
              "        async function convertToInteractive(key) {\n",
              "          const element = document.querySelector('#df-8dd3e178-b29f-455f-a139-0d8abe1ceee2');\n",
              "          const dataTable =\n",
              "            await google.colab.kernel.invokeFunction('convertToInteractive',\n",
              "                                                     [key], {});\n",
              "          if (!dataTable) return;\n",
              "\n",
              "          const docLinkHtml = 'Like what you see? Visit the ' +\n",
              "            '<a target=\"_blank\" href=https://colab.research.google.com/notebooks/data_table.ipynb>data table notebook</a>'\n",
              "            + ' to learn more about interactive tables.';\n",
              "          element.innerHTML = '';\n",
              "          dataTable['output_type'] = 'display_data';\n",
              "          await google.colab.output.renderOutput(dataTable, element);\n",
              "          const docLink = document.createElement('div');\n",
              "          docLink.innerHTML = docLinkHtml;\n",
              "          element.appendChild(docLink);\n",
              "        }\n",
              "      </script>\n",
              "    </div>\n",
              "  </div>\n",
              "  "
            ]
          },
          "metadata": {},
          "execution_count": 54
        }
      ]
    },
    {
      "cell_type": "code",
      "source": [
        "data['strength'].unique()"
      ],
      "metadata": {
        "colab": {
          "base_uri": "https://localhost:8080/"
        },
        "id": "1qvXTBPFhmhZ",
        "outputId": "79fc5138-ae29-4840-a1df-613b1457b25f"
      },
      "execution_count": null,
      "outputs": [
        {
          "output_type": "execute_result",
          "data": {
            "text/plain": [
              "array([1, 2, 0])"
            ]
          },
          "metadata": {},
          "execution_count": 55
        }
      ]
    },
    {
      "cell_type": "code",
      "source": [
        "data.isna().sum()"
      ],
      "metadata": {
        "colab": {
          "base_uri": "https://localhost:8080/"
        },
        "id": "CYscqXQIhpHh",
        "outputId": "be117ad9-2da6-406a-d77c-cfdcb76fe819"
      },
      "execution_count": null,
      "outputs": [
        {
          "output_type": "execute_result",
          "data": {
            "text/plain": [
              "password    1\n",
              "strength    0\n",
              "dtype: int64"
            ]
          },
          "metadata": {},
          "execution_count": 56
        }
      ]
    },
    {
      "cell_type": "code",
      "source": [
        "data[data['password'].isnull()]"
      ],
      "metadata": {
        "colab": {
          "base_uri": "https://localhost:8080/",
          "height": 81
        },
        "id": "npO6hS5Mhr6Z",
        "outputId": "7d9cf0bf-d047-414e-8335-0ce186cc5446"
      },
      "execution_count": null,
      "outputs": [
        {
          "output_type": "execute_result",
          "data": {
            "text/plain": [
              "       password  strength\n",
              "367579      NaN         0"
            ],
            "text/html": [
              "\n",
              "  <div id=\"df-a33ea8a2-cb8c-4e33-8f28-85dea6c9f1f8\">\n",
              "    <div class=\"colab-df-container\">\n",
              "      <div>\n",
              "<style scoped>\n",
              "    .dataframe tbody tr th:only-of-type {\n",
              "        vertical-align: middle;\n",
              "    }\n",
              "\n",
              "    .dataframe tbody tr th {\n",
              "        vertical-align: top;\n",
              "    }\n",
              "\n",
              "    .dataframe thead th {\n",
              "        text-align: right;\n",
              "    }\n",
              "</style>\n",
              "<table border=\"1\" class=\"dataframe\">\n",
              "  <thead>\n",
              "    <tr style=\"text-align: right;\">\n",
              "      <th></th>\n",
              "      <th>password</th>\n",
              "      <th>strength</th>\n",
              "    </tr>\n",
              "  </thead>\n",
              "  <tbody>\n",
              "    <tr>\n",
              "      <th>367579</th>\n",
              "      <td>NaN</td>\n",
              "      <td>0</td>\n",
              "    </tr>\n",
              "  </tbody>\n",
              "</table>\n",
              "</div>\n",
              "      <button class=\"colab-df-convert\" onclick=\"convertToInteractive('df-a33ea8a2-cb8c-4e33-8f28-85dea6c9f1f8')\"\n",
              "              title=\"Convert this dataframe to an interactive table.\"\n",
              "              style=\"display:none;\">\n",
              "        \n",
              "  <svg xmlns=\"http://www.w3.org/2000/svg\" height=\"24px\"viewBox=\"0 0 24 24\"\n",
              "       width=\"24px\">\n",
              "    <path d=\"M0 0h24v24H0V0z\" fill=\"none\"/>\n",
              "    <path d=\"M18.56 5.44l.94 2.06.94-2.06 2.06-.94-2.06-.94-.94-2.06-.94 2.06-2.06.94zm-11 1L8.5 8.5l.94-2.06 2.06-.94-2.06-.94L8.5 2.5l-.94 2.06-2.06.94zm10 10l.94 2.06.94-2.06 2.06-.94-2.06-.94-.94-2.06-.94 2.06-2.06.94z\"/><path d=\"M17.41 7.96l-1.37-1.37c-.4-.4-.92-.59-1.43-.59-.52 0-1.04.2-1.43.59L10.3 9.45l-7.72 7.72c-.78.78-.78 2.05 0 2.83L4 21.41c.39.39.9.59 1.41.59.51 0 1.02-.2 1.41-.59l7.78-7.78 2.81-2.81c.8-.78.8-2.07 0-2.86zM5.41 20L4 18.59l7.72-7.72 1.47 1.35L5.41 20z\"/>\n",
              "  </svg>\n",
              "      </button>\n",
              "      \n",
              "  <style>\n",
              "    .colab-df-container {\n",
              "      display:flex;\n",
              "      flex-wrap:wrap;\n",
              "      gap: 12px;\n",
              "    }\n",
              "\n",
              "    .colab-df-convert {\n",
              "      background-color: #E8F0FE;\n",
              "      border: none;\n",
              "      border-radius: 50%;\n",
              "      cursor: pointer;\n",
              "      display: none;\n",
              "      fill: #1967D2;\n",
              "      height: 32px;\n",
              "      padding: 0 0 0 0;\n",
              "      width: 32px;\n",
              "    }\n",
              "\n",
              "    .colab-df-convert:hover {\n",
              "      background-color: #E2EBFA;\n",
              "      box-shadow: 0px 1px 2px rgba(60, 64, 67, 0.3), 0px 1px 3px 1px rgba(60, 64, 67, 0.15);\n",
              "      fill: #174EA6;\n",
              "    }\n",
              "\n",
              "    [theme=dark] .colab-df-convert {\n",
              "      background-color: #3B4455;\n",
              "      fill: #D2E3FC;\n",
              "    }\n",
              "\n",
              "    [theme=dark] .colab-df-convert:hover {\n",
              "      background-color: #434B5C;\n",
              "      box-shadow: 0px 1px 3px 1px rgba(0, 0, 0, 0.15);\n",
              "      filter: drop-shadow(0px 1px 2px rgba(0, 0, 0, 0.3));\n",
              "      fill: #FFFFFF;\n",
              "    }\n",
              "  </style>\n",
              "\n",
              "      <script>\n",
              "        const buttonEl =\n",
              "          document.querySelector('#df-a33ea8a2-cb8c-4e33-8f28-85dea6c9f1f8 button.colab-df-convert');\n",
              "        buttonEl.style.display =\n",
              "          google.colab.kernel.accessAllowed ? 'block' : 'none';\n",
              "\n",
              "        async function convertToInteractive(key) {\n",
              "          const element = document.querySelector('#df-a33ea8a2-cb8c-4e33-8f28-85dea6c9f1f8');\n",
              "          const dataTable =\n",
              "            await google.colab.kernel.invokeFunction('convertToInteractive',\n",
              "                                                     [key], {});\n",
              "          if (!dataTable) return;\n",
              "\n",
              "          const docLinkHtml = 'Like what you see? Visit the ' +\n",
              "            '<a target=\"_blank\" href=https://colab.research.google.com/notebooks/data_table.ipynb>data table notebook</a>'\n",
              "            + ' to learn more about interactive tables.';\n",
              "          element.innerHTML = '';\n",
              "          dataTable['output_type'] = 'display_data';\n",
              "          await google.colab.output.renderOutput(dataTable, element);\n",
              "          const docLink = document.createElement('div');\n",
              "          docLink.innerHTML = docLinkHtml;\n",
              "          element.appendChild(docLink);\n",
              "        }\n",
              "      </script>\n",
              "    </div>\n",
              "  </div>\n",
              "  "
            ]
          },
          "metadata": {},
          "execution_count": 57
        }
      ]
    },
    {
      "cell_type": "code",
      "source": [
        "data.dropna(inplace=True)"
      ],
      "metadata": {
        "id": "j7DX4YCahuiR"
      },
      "execution_count": null,
      "outputs": []
    },
    {
      "cell_type": "code",
      "source": [
        "data.isnull().sum()"
      ],
      "metadata": {
        "colab": {
          "base_uri": "https://localhost:8080/"
        },
        "id": "C04wwRy4hxSd",
        "outputId": "37c6ea00-d472-4089-ee7f-3683aa7adb94"
      },
      "execution_count": null,
      "outputs": [
        {
          "output_type": "execute_result",
          "data": {
            "text/plain": [
              "password    0\n",
              "strength    0\n",
              "dtype: int64"
            ]
          },
          "metadata": {},
          "execution_count": 59
        }
      ]
    },
    {
      "cell_type": "code",
      "source": [
        "sns.countplot(data['strength'])"
      ],
      "metadata": {
        "colab": {
          "base_uri": "https://localhost:8080/",
          "height": 452
        },
        "id": "mfs3ecoZhzXf",
        "outputId": "63a32a23-6e10-4df0-e3ab-493f5f1dcdde"
      },
      "execution_count": null,
      "outputs": [
        {
          "output_type": "execute_result",
          "data": {
            "text/plain": [
              "<Axes: ylabel='count'>"
            ]
          },
          "metadata": {},
          "execution_count": 60
        },
        {
          "output_type": "display_data",
          "data": {
            "text/plain": [
              "<Figure size 640x480 with 1 Axes>"
            ],
            "image/png": "[encoded data removed]"
          },
          "metadata": {}
        }
      ]
    },
    {
      "cell_type": "code",
      "source": [
        "data.sample(10)"
      ],
      "metadata": {
        "colab": {
          "base_uri": "https://localhost:8080/",
          "height": 363
        },
        "id": "-2THlX2Uh2q1",
        "outputId": "92cd6f6a-72a4-475f-d85e-76716cc5643a"
      },
      "execution_count": null,
      "outputs": [
        {
          "output_type": "execute_result",
          "data": {
            "text/plain": [
              "                password  strength\n",
              "62724          ecrzlivg1         1\n",
              "365766         vunumo680         1\n",
              "374320  mc9UQLTA5OQURxB6         2\n",
              "475233         sejt6bwn3         1\n",
              "385946        maximus666         1\n",
              "370879          basket10         1\n",
              "416504        11BE6ME024         1\n",
              "173363  KQBBwkjQ0NAlv4BY         2\n",
              "145250          spilo123         1\n",
              "549805  so5AKuDUzNQzUUXE         2"
            ],
            "text/html": [
              "\n",
              "  <div id=\"df-e810eac5-3674-4c14-8ea9-0c061f4c9cef\">\n",
              "    <div class=\"colab-df-container\">\n",
              "      <div>\n",
              "<style scoped>\n",
              "    .dataframe tbody tr th:only-of-type {\n",
              "        vertical-align: middle;\n",
              "    }\n",
              "\n",
              "    .dataframe tbody tr th {\n",
              "        vertical-align: top;\n",
              "    }\n",
              "\n",
              "    .dataframe thead th {\n",
              "        text-align: right;\n",
              "    }\n",
              "</style>\n",
              "<table border=\"1\" class=\"dataframe\">\n",
              "  <thead>\n",
              "    <tr style=\"text-align: right;\">\n",
              "      <th></th>\n",
              "      <th>password</th>\n",
              "      <th>strength</th>\n",
              "    </tr>\n",
              "  </thead>\n",
              "  <tbody>\n",
              "    <tr>\n",
              "      <th>62724</th>\n",
              "      <td>ecrzlivg1</td>\n",
              "      <td>1</td>\n",
              "    </tr>\n",
              "    <tr>\n",
              "      <th>365766</th>\n",
              "      <td>vunumo680</td>\n",
              "      <td>1</td>\n",
              "    </tr>\n",
              "    <tr>\n",
              "      <th>374320</th>\n",
              "      <td>mc9UQLTA5OQURxB6</td>\n",
              "      <td>2</td>\n",
              "    </tr>\n",
              "    <tr>\n",
              "      <th>475233</th>\n",
              "      <td>sejt6bwn3</td>\n",
              "      <td>1</td>\n",
              "    </tr>\n",
              "    <tr>\n",
              "      <th>385946</th>\n",
              "      <td>maximus666</td>\n",
              "      <td>1</td>\n",
              "    </tr>\n",
              "    <tr>\n",
              "      <th>370879</th>\n",
              "      <td>basket10</td>\n",
              "      <td>1</td>\n",
              "    </tr>\n",
              "    <tr>\n",
              "      <th>416504</th>\n",
              "      <td>11BE6ME024</td>\n",
              "      <td>1</td>\n",
              "    </tr>\n",
              "    <tr>\n",
              "      <th>173363</th>\n",
              "      <td>KQBBwkjQ0NAlv4BY</td>\n",
              "      <td>2</td>\n",
              "    </tr>\n",
              "    <tr>\n",
              "      <th>145250</th>\n",
              "      <td>spilo123</td>\n",
              "      <td>1</td>\n",
              "    </tr>\n",
              "    <tr>\n",
              "      <th>549805</th>\n",
              "      <td>so5AKuDUzNQzUUXE</td>\n",
              "      <td>2</td>\n",
              "    </tr>\n",
              "  </tbody>\n",
              "</table>\n",
              "</div>\n",
              "      <button class=\"colab-df-convert\" onclick=\"convertToInteractive('df-e810eac5-3674-4c14-8ea9-0c061f4c9cef')\"\n",
              "              title=\"Convert this dataframe to an interactive table.\"\n",
              "              style=\"display:none;\">\n",
              "        \n",
              "  <svg xmlns=\"http://www.w3.org/2000/svg\" height=\"24px\"viewBox=\"0 0 24 24\"\n",
              "       width=\"24px\">\n",
              "    <path d=\"M0 0h24v24H0V0z\" fill=\"none\"/>\n",
              "    <path d=\"M18.56 5.44l.94 2.06.94-2.06 2.06-.94-2.06-.94-.94-2.06-.94 2.06-2.06.94zm-11 1L8.5 8.5l.94-2.06 2.06-.94-2.06-.94L8.5 2.5l-.94 2.06-2.06.94zm10 10l.94 2.06.94-2.06 2.06-.94-2.06-.94-.94-2.06-.94 2.06-2.06.94z\"/><path d=\"M17.41 7.96l-1.37-1.37c-.4-.4-.92-.59-1.43-.59-.52 0-1.04.2-1.43.59L10.3 9.45l-7.72 7.72c-.78.78-.78 2.05 0 2.83L4 21.41c.39.39.9.59 1.41.59.51 0 1.02-.2 1.41-.59l7.78-7.78 2.81-2.81c.8-.78.8-2.07 0-2.86zM5.41 20L4 18.59l7.72-7.72 1.47 1.35L5.41 20z\"/>\n",
              "  </svg>\n",
              "      </button>\n",
              "      \n",
              "  <style>\n",
              "    .colab-df-container {\n",
              "      display:flex;\n",
              "      flex-wrap:wrap;\n",
              "      gap: 12px;\n",
              "    }\n",
              "\n",
              "    .colab-df-convert {\n",
              "      background-color: #E8F0FE;\n",
              "      border: none;\n",
              "      border-radius: 50%;\n",
              "      cursor: pointer;\n",
              "      display: none;\n",
              "      fill: #1967D2;\n",
              "      height: 32px;\n",
              "      padding: 0 0 0 0;\n",
              "      width: 32px;\n",
              "    }\n",
              "\n",
              "    .colab-df-convert:hover {\n",
              "      background-color: #E2EBFA;\n",
              "      box-shadow: 0px 1px 2px rgba(60, 64, 67, 0.3), 0px 1px 3px 1px rgba(60, 64, 67, 0.15);\n",
              "      fill: #174EA6;\n",
              "    }\n",
              "\n",
              "    [theme=dark] .colab-df-convert {\n",
              "      background-color: #3B4455;\n",
              "      fill: #D2E3FC;\n",
              "    }\n",
              "\n",
              "    [theme=dark] .colab-df-convert:hover {\n",
              "      background-color: #434B5C;\n",
              "      box-shadow: 0px 1px 3px 1px rgba(0, 0, 0, 0.15);\n",
              "      filter: drop-shadow(0px 1px 2px rgba(0, 0, 0, 0.3));\n",
              "      fill: #FFFFFF;\n",
              "    }\n",
              "  </style>\n",
              "\n",
              "      <script>\n",
              "        const buttonEl =\n",
              "          document.querySelector('#df-e810eac5-3674-4c14-8ea9-0c061f4c9cef button.colab-df-convert');\n",
              "        buttonEl.style.display =\n",
              "          google.colab.kernel.accessAllowed ? 'block' : 'none';\n",
              "\n",
              "        async function convertToInteractive(key) {\n",
              "          const element = document.querySelector('#df-e810eac5-3674-4c14-8ea9-0c061f4c9cef');\n",
              "          const dataTable =\n",
              "            await google.colab.kernel.invokeFunction('convertToInteractive',\n",
              "                                                     [key], {});\n",
              "          if (!dataTable) return;\n",
              "\n",
              "          const docLinkHtml = 'Like what you see? Visit the ' +\n",
              "            '<a target=\"_blank\" href=https://colab.research.google.com/notebooks/data_table.ipynb>data table notebook</a>'\n",
              "            + ' to learn more about interactive tables.';\n",
              "          element.innerHTML = '';\n",
              "          dataTable['output_type'] = 'display_data';\n",
              "          await google.colab.output.renderOutput(dataTable, element);\n",
              "          const docLink = document.createElement('div');\n",
              "          docLink.innerHTML = docLinkHtml;\n",
              "          element.appendChild(docLink);\n",
              "        }\n",
              "      </script>\n",
              "    </div>\n",
              "  </div>\n",
              "  "
            ]
          },
          "metadata": {},
          "execution_count": 61
        }
      ]
    },
    {
      "cell_type": "code",
      "source": [
        "password_tuple=np.array(data)"
      ],
      "metadata": {
        "id": "Y0oOMBpyiEz8"
      },
      "execution_count": null,
      "outputs": []
    },
    {
      "cell_type": "code",
      "source": [
        "password_tuple"
      ],
      "metadata": {
        "colab": {
          "base_uri": "https://localhost:8080/"
        },
        "id": "t8TUnGD5iJFC",
        "outputId": "d2cdb82e-2064-4590-d696-4ec3abcd1cb6"
      },
      "execution_count": null,
      "outputs": [
        {
          "output_type": "execute_result",
          "data": {
            "text/plain": [
              "array([['kzde5577', 1],\n",
              "       ['kino3434', 1],\n",
              "       ['visi7k1yr', 1],\n",
              "       ...,\n",
              "       ['184520socram', 1],\n",
              "       ['marken22a', 1],\n",
              "       ['fxx4pw4g', 1]], dtype=object)"
            ]
          },
          "metadata": {},
          "execution_count": 63
        }
      ]
    },
    {
      "cell_type": "code",
      "source": [
        "import random\n",
        "random.shuffle(password_tuple)"
      ],
      "metadata": {
        "id": "tQ94R4kdiMMK"
      },
      "execution_count": null,
      "outputs": []
    },
    {
      "cell_type": "code",
      "source": [
        "x=[labels[0] for labels in password_tuple]\n",
        "y=[labels[1] for labels in password_tuple]"
      ],
      "metadata": {
        "id": "2X-_kvI8iORp"
      },
      "execution_count": null,
      "outputs": []
    },
    {
      "cell_type": "code",
      "source": [
        "def word_divide_char(inputs):\n",
        "    character=[]\n",
        "    for i in inputs:\n",
        "        character.append(i)\n",
        "    return character"
      ],
      "metadata": {
        "id": "u-HwB2PsiQkR"
      },
      "execution_count": null,
      "outputs": []
    },
    {
      "cell_type": "code",
      "source": [
        "word_divide_char('kzde5577')"
      ],
      "metadata": {
        "colab": {
          "base_uri": "https://localhost:8080/"
        },
        "id": "Jvs0KUjUiTEy",
        "outputId": "61029edd-267c-427e-84cb-bbcaea5cf478"
      },
      "execution_count": null,
      "outputs": [
        {
          "output_type": "execute_result",
          "data": {
            "text/plain": [
              "['k', 'z', 'd', 'e', '5', '5', '7', '7']"
            ]
          },
          "metadata": {},
          "execution_count": 67
        }
      ]
    },
    {
      "cell_type": "code",
      "source": [
        "from sklearn.feature_extraction.text import TfidfVectorizer"
      ],
      "metadata": {
        "id": "Z1vukmHviXfK"
      },
      "execution_count": null,
      "outputs": []
    },
    {
      "cell_type": "code",
      "source": [
        "vectorizer=TfidfVectorizer(tokenizer=word_divide_char)"
      ],
      "metadata": {
        "id": "Alewpi65iZXq"
      },
      "execution_count": null,
      "outputs": []
    },
    {
      "cell_type": "code",
      "source": [
        "\n",
        "X=vectorizer.fit_transform(x)"
      ],
      "metadata": {
        "id": "Z7BZqnq4idEB"
      },
      "execution_count": null,
      "outputs": []
    },
    {
      "cell_type": "code",
      "source": [
        "X.shape"
      ],
      "metadata": {
        "colab": {
          "base_uri": "https://localhost:8080/"
        },
        "id": "R1RvFVtDifSJ",
        "outputId": "95aa2e63-9a7c-485d-90e5-51b125031e0b"
      },
      "execution_count": null,
      "outputs": [
        {
          "output_type": "execute_result",
          "data": {
            "text/plain": [
              "(669639, 127)"
            ]
          },
          "metadata": {},
          "execution_count": 71
        }
      ]
    },
    {
      "cell_type": "code",
      "source": [
        "vectorizer.get_feature_names_out()"
      ],
      "metadata": {
        "colab": {
          "base_uri": "https://localhost:8080/"
        },
        "id": "aAinviP-ijKJ",
        "outputId": "a0f8a012-fb5e-480a-e71e-6006e3d19146"
      },
      "execution_count": null,
      "outputs": [
        {
          "output_type": "execute_result",
          "data": {
            "text/plain": [
              "array(['\\x05', '\\x06', '\\x08', '\\x10', '\\x11', '\\x12', '\\x13', '\\x16',\n",
              "       '\\x17', '\\x19', '\\x1b', '\\x1c', '\\x1d', '\\x1e', ' ', '!', '\"', '#',\n",
              "       '$', '%', '&', '(', ')', '*', '+', '-', '.', '/', '0', '1', '2',\n",
              "       '3', '4', '5', '6', '7', '8', '9', ';', '<', '=', '>', '?', '@',\n",
              "       '[', '\\\\', ']', '^', '_', '`', 'a', 'b', 'c', 'd', 'e', 'f', 'g',\n",
              "       'h', 'i', 'j', 'k', 'l', 'm', 'n', 'o', 'p', 'q', 'r', 's', 't',\n",
              "       'u', 'v', 'w', 'x', 'y', 'z', '{', '|', '}', '~', '\\x7f', '\\x81',\n",
              "       '\\xa0', '¡', '¨', '«', '°', '±', '³', '´', 'µ', '·', 'º', '¾', '¿',\n",
              "       '×', 'ß', 'à', 'á', 'â', 'ã', 'ä', 'å', 'æ', 'ç', 'è', 'é', 'ê',\n",
              "       'í', 'ï', 'ð', 'ñ', 'ò', 'ó', 'ô', 'õ', '÷', 'ù', 'ú', 'û', 'ü',\n",
              "       'ý', 'þ', 'ÿ', 'ƒ', '‚', '…'], dtype=object)"
            ]
          },
          "metadata": {},
          "execution_count": 72
        }
      ]
    },
    {
      "cell_type": "code",
      "source": [
        "first_document_vector=X[0]\n",
        "first_document_vector"
      ],
      "metadata": {
        "colab": {
          "base_uri": "https://localhost:8080/"
        },
        "id": "DRXb-DuSi2gy",
        "outputId": "c7495c52-2fa9-4763-dc78-a47120a7f881"
      },
      "execution_count": null,
      "outputs": [
        {
          "output_type": "execute_result",
          "data": {
            "text/plain": [
              "<1x127 sparse matrix of type '<class 'numpy.float64'>'\n",
              "\twith 6 stored elements in Compressed Sparse Row format>"
            ]
          },
          "metadata": {},
          "execution_count": 73
        }
      ]
    },
    {
      "cell_type": "code",
      "source": [
        "first_document_vector.T.todense()"
      ],
      "metadata": {
        "colab": {
          "base_uri": "https://localhost:8080/"
        },
        "id": "7AbuQ9Oci44a",
        "outputId": "a91722c4-0e59-4a76-914d-c0828ea52485"
      },
      "execution_count": null,
      "outputs": [
        {
          "output_type": "execute_result",
          "data": {
            "text/plain": [
              "matrix([[0.        ],\n",
              "        [0.        ],\n",
              "        [0.        ],\n",
              "        [0.        ],\n",
              "        [0.        ],\n",
              "        [0.        ],\n",
              "        [0.        ],\n",
              "        [0.        ],\n",
              "        [0.        ],\n",
              "        [0.        ],\n",
              "        [0.        ],\n",
              "        [0.        ],\n",
              "        [0.        ],\n",
              "        [0.        ],\n",
              "        [0.        ],\n",
              "        [0.        ],\n",
              "        [0.        ],\n",
              "        [0.        ],\n",
              "        [0.        ],\n",
              "        [0.        ],\n",
              "        [0.        ],\n",
              "        [0.        ],\n",
              "        [0.        ],\n",
              "        [0.        ],\n",
              "        [0.        ],\n",
              "        [0.        ],\n",
              "        [0.        ],\n",
              "        [0.        ],\n",
              "        [0.        ],\n",
              "        [0.        ],\n",
              "        [0.        ],\n",
              "        [0.        ],\n",
              "        [0.        ],\n",
              "        [0.56724352],\n",
              "        [0.        ],\n",
              "        [0.59177088],\n",
              "        [0.        ],\n",
              "        [0.        ],\n",
              "        [0.        ],\n",
              "        [0.        ],\n",
              "        [0.        ],\n",
              "        [0.        ],\n",
              "        [0.        ],\n",
              "        [0.        ],\n",
              "        [0.        ],\n",
              "        [0.        ],\n",
              "        [0.        ],\n",
              "        [0.        ],\n",
              "        [0.        ],\n",
              "        [0.        ],\n",
              "        [0.        ],\n",
              "        [0.        ],\n",
              "        [0.        ],\n",
              "        [0.28542109],\n",
              "        [0.22091304],\n",
              "        [0.        ],\n",
              "        [0.        ],\n",
              "        [0.        ],\n",
              "        [0.        ],\n",
              "        [0.        ],\n",
              "        [0.29142065],\n",
              "        [0.        ],\n",
              "        [0.        ],\n",
              "        [0.        ],\n",
              "        [0.        ],\n",
              "        [0.        ],\n",
              "        [0.        ],\n",
              "        [0.        ],\n",
              "        [0.        ],\n",
              "        [0.        ],\n",
              "        [0.        ],\n",
              "        [0.        ],\n",
              "        [0.        ],\n",
              "        [0.        ],\n",
              "        [0.        ],\n",
              "        [0.33592895],\n",
              "        [0.        ],\n",
              "        [0.        ],\n",
              "        [0.        ],\n",
              "        [0.        ],\n",
              "        [0.        ],\n",
              "        [0.        ],\n",
              "        [0.        ],\n",
              "        [0.        ],\n",
              "        [0.        ],\n",
              "        [0.        ],\n",
              "        [0.        ],\n",
              "        [0.        ],\n",
              "        [0.        ],\n",
              "        [0.        ],\n",
              "        [0.        ],\n",
              "        [0.        ],\n",
              "        [0.        ],\n",
              "        [0.        ],\n",
              "        [0.        ],\n",
              "        [0.        ],\n",
              "        [0.        ],\n",
              "        [0.        ],\n",
              "        [0.        ],\n",
              "        [0.        ],\n",
              "        [0.        ],\n",
              "        [0.        ],\n",
              "        [0.        ],\n",
              "        [0.        ],\n",
              "        [0.        ],\n",
              "        [0.        ],\n",
              "        [0.        ],\n",
              "        [0.        ],\n",
              "        [0.        ],\n",
              "        [0.        ],\n",
              "        [0.        ],\n",
              "        [0.        ],\n",
              "        [0.        ],\n",
              "        [0.        ],\n",
              "        [0.        ],\n",
              "        [0.        ],\n",
              "        [0.        ],\n",
              "        [0.        ],\n",
              "        [0.        ],\n",
              "        [0.        ],\n",
              "        [0.        ],\n",
              "        [0.        ],\n",
              "        [0.        ],\n",
              "        [0.        ],\n",
              "        [0.        ],\n",
              "        [0.        ],\n",
              "        [0.        ]])"
            ]
          },
          "metadata": {},
          "execution_count": 74
        }
      ]
    },
    {
      "cell_type": "code",
      "source": [
        "df=pd.DataFrame(first_document_vector.T.todense(),index=vectorizer.get_feature_names_out(),columns=['TF-IDF'])\n",
        "df.sort_values(by=['TF-IDF'],ascending=False)"
      ],
      "metadata": {
        "colab": {
          "base_uri": "https://localhost:8080/",
          "height": 423
        },
        "id": "hjIngNIYi8hC",
        "outputId": "099eeefa-2271-4d27-a54a-906ff9b7eb78"
      },
      "execution_count": null,
      "outputs": [
        {
          "output_type": "execute_result",
          "data": {
            "text/plain": [
              "      TF-IDF\n",
              "7   0.591771\n",
              "5   0.567244\n",
              "z   0.335929\n",
              "k   0.291421\n",
              "d   0.285421\n",
              "..       ...\n",
              ";   0.000000\n",
              "9   0.000000\n",
              "8   0.000000\n",
              "6   0.000000\n",
              "…   0.000000\n",
              "\n",
              "[127 rows x 1 columns]"
            ],
            "text/html": [
              "\n",
              "  <div id=\"df-52dee83d-f8c8-4b6e-bfbf-d4ea31d1ef82\">\n",
              "    <div class=\"colab-df-container\">\n",
              "      <div>\n",
              "<style scoped>\n",
              "    .dataframe tbody tr th:only-of-type {\n",
              "        vertical-align: middle;\n",
              "    }\n",
              "\n",
              "    .dataframe tbody tr th {\n",
              "        vertical-align: top;\n",
              "    }\n",
              "\n",
              "    .dataframe thead th {\n",
              "        text-align: right;\n",
              "    }\n",
              "</style>\n",
              "<table border=\"1\" class=\"dataframe\">\n",
              "  <thead>\n",
              "    <tr style=\"text-align: right;\">\n",
              "      <th></th>\n",
              "      <th>TF-IDF</th>\n",
              "    </tr>\n",
              "  </thead>\n",
              "  <tbody>\n",
              "    <tr>\n",
              "      <th>7</th>\n",
              "      <td>0.591771</td>\n",
              "    </tr>\n",
              "    <tr>\n",
              "      <th>5</th>\n",
              "      <td>0.567244</td>\n",
              "    </tr>\n",
              "    <tr>\n",
              "      <th>z</th>\n",
              "      <td>0.335929</td>\n",
              "    </tr>\n",
              "    <tr>\n",
              "      <th>k</th>\n",
              "      <td>0.291421</td>\n",
              "    </tr>\n",
              "    <tr>\n",
              "      <th>d</th>\n",
              "      <td>0.285421</td>\n",
              "    </tr>\n",
              "    <tr>\n",
              "      <th>...</th>\n",
              "      <td>...</td>\n",
              "    </tr>\n",
              "    <tr>\n",
              "      <th>;</th>\n",
              "      <td>0.000000</td>\n",
              "    </tr>\n",
              "    <tr>\n",
              "      <th>9</th>\n",
              "      <td>0.000000</td>\n",
              "    </tr>\n",
              "    <tr>\n",
              "      <th>8</th>\n",
              "      <td>0.000000</td>\n",
              "    </tr>\n",
              "    <tr>\n",
              "      <th>6</th>\n",
              "      <td>0.000000</td>\n",
              "    </tr>\n",
              "    <tr>\n",
              "      <th>…</th>\n",
              "      <td>0.000000</td>\n",
              "    </tr>\n",
              "  </tbody>\n",
              "</table>\n",
              "<p>127 rows × 1 columns</p>\n",
              "</div>\n",
              "      <button class=\"colab-df-convert\" onclick=\"convertToInteractive('df-52dee83d-f8c8-4b6e-bfbf-d4ea31d1ef82')\"\n",
              "              title=\"Convert this dataframe to an interactive table.\"\n",
              "              style=\"display:none;\">\n",
              "        \n",
              "  <svg xmlns=\"http://www.w3.org/2000/svg\" height=\"24px\"viewBox=\"0 0 24 24\"\n",
              "       width=\"24px\">\n",
              "    <path d=\"M0 0h24v24H0V0z\" fill=\"none\"/>\n",
              "    <path d=\"M18.56 5.44l.94 2.06.94-2.06 2.06-.94-2.06-.94-.94-2.06-.94 2.06-2.06.94zm-11 1L8.5 8.5l.94-2.06 2.06-.94-2.06-.94L8.5 2.5l-.94 2.06-2.06.94zm10 10l.94 2.06.94-2.06 2.06-.94-2.06-.94-.94-2.06-.94 2.06-2.06.94z\"/><path d=\"M17.41 7.96l-1.37-1.37c-.4-.4-.92-.59-1.43-.59-.52 0-1.04.2-1.43.59L10.3 9.45l-7.72 7.72c-.78.78-.78 2.05 0 2.83L4 21.41c.39.39.9.59 1.41.59.51 0 1.02-.2 1.41-.59l7.78-7.78 2.81-2.81c.8-.78.8-2.07 0-2.86zM5.41 20L4 18.59l7.72-7.72 1.47 1.35L5.41 20z\"/>\n",
              "  </svg>\n",
              "      </button>\n",
              "      \n",
              "  <style>\n",
              "    .colab-df-container {\n",
              "      display:flex;\n",
              "      flex-wrap:wrap;\n",
              "      gap: 12px;\n",
              "    }\n",
              "\n",
              "    .colab-df-convert {\n",
              "      background-color: #E8F0FE;\n",
              "      border: none;\n",
              "      border-radius: 50%;\n",
              "      cursor: pointer;\n",
              "      display: none;\n",
              "      fill: #1967D2;\n",
              "      height: 32px;\n",
              "      padding: 0 0 0 0;\n",
              "      width: 32px;\n",
              "    }\n",
              "\n",
              "    .colab-df-convert:hover {\n",
              "      background-color: #E2EBFA;\n",
              "      box-shadow: 0px 1px 2px rgba(60, 64, 67, 0.3), 0px 1px 3px 1px rgba(60, 64, 67, 0.15);\n",
              "      fill: #174EA6;\n",
              "    }\n",
              "\n",
              "    [theme=dark] .colab-df-convert {\n",
              "      background-color: #3B4455;\n",
              "      fill: #D2E3FC;\n",
              "    }\n",
              "\n",
              "    [theme=dark] .colab-df-convert:hover {\n",
              "      background-color: #434B5C;\n",
              "      box-shadow: 0px 1px 3px 1px rgba(0, 0, 0, 0.15);\n",
              "      filter: drop-shadow(0px 1px 2px rgba(0, 0, 0, 0.3));\n",
              "      fill: #FFFFFF;\n",
              "    }\n",
              "  </style>\n",
              "\n",
              "      <script>\n",
              "        const buttonEl =\n",
              "          document.querySelector('#df-52dee83d-f8c8-4b6e-bfbf-d4ea31d1ef82 button.colab-df-convert');\n",
              "        buttonEl.style.display =\n",
              "          google.colab.kernel.accessAllowed ? 'block' : 'none';\n",
              "\n",
              "        async function convertToInteractive(key) {\n",
              "          const element = document.querySelector('#df-52dee83d-f8c8-4b6e-bfbf-d4ea31d1ef82');\n",
              "          const dataTable =\n",
              "            await google.colab.kernel.invokeFunction('convertToInteractive',\n",
              "                                                     [key], {});\n",
              "          if (!dataTable) return;\n",
              "\n",
              "          const docLinkHtml = 'Like what you see? Visit the ' +\n",
              "            '<a target=\"_blank\" href=https://colab.research.google.com/notebooks/data_table.ipynb>data table notebook</a>'\n",
              "            + ' to learn more about interactive tables.';\n",
              "          element.innerHTML = '';\n",
              "          dataTable['output_type'] = 'display_data';\n",
              "          await google.colab.output.renderOutput(dataTable, element);\n",
              "          const docLink = document.createElement('div');\n",
              "          docLink.innerHTML = docLinkHtml;\n",
              "          element.appendChild(docLink);\n",
              "        }\n",
              "      </script>\n",
              "    </div>\n",
              "  </div>\n",
              "  "
            ]
          },
          "metadata": {},
          "execution_count": 75
        }
      ]
    },
    {
      "cell_type": "code",
      "source": [
        "from sklearn.model_selection import train_test_split"
      ],
      "metadata": {
        "id": "KPx6qOZ_jFPD"
      },
      "execution_count": null,
      "outputs": []
    },
    {
      "cell_type": "code",
      "source": [
        "X_train, X_test, y_train, y_test=train_test_split(X,y,test_size=0.2)"
      ],
      "metadata": {
        "id": "Lzd1ZXKSjHX0"
      },
      "execution_count": null,
      "outputs": []
    },
    {
      "cell_type": "code",
      "source": [
        "X_train.shape"
      ],
      "metadata": {
        "colab": {
          "base_uri": "https://localhost:8080/"
        },
        "id": "Wgfzn2lCjJZa",
        "outputId": "d968c66f-2e17-40a5-c760-0617aa372842"
      },
      "execution_count": null,
      "outputs": [
        {
          "output_type": "execute_result",
          "data": {
            "text/plain": [
              "(535711, 127)"
            ]
          },
          "metadata": {},
          "execution_count": 78
        }
      ]
    },
    {
      "cell_type": "code",
      "source": [
        "from sklearn.linear_model import LogisticRegression"
      ],
      "metadata": {
        "id": "P0S9hmxTjK_1"
      },
      "execution_count": null,
      "outputs": []
    },
    {
      "cell_type": "code",
      "source": [
        "clf=LogisticRegression(random_state=0,multi_class='multinomial')"
      ],
      "metadata": {
        "id": "RJmaFl_WjM9q"
      },
      "execution_count": null,
      "outputs": []
    },
    {
      "cell_type": "code",
      "source": [
        "clf.fit(X_train,y_train)"
      ],
      "metadata": {
        "colab": {
          "base_uri": "https://localhost:8080/",
          "height": 74
        },
        "id": "pmjsaWfejQCj",
        "outputId": "a9d23731-023f-40df-bdb9-df48bf101ec5"
      },
      "execution_count": null,
      "outputs": [
        {
          "output_type": "execute_result",
          "data": {
            "text/plain": [
              "LogisticRegression(multi_class='multinomial', random_state=0)"
            ],
            "text/html": [
              "<style>#sk-container-id-2 {color: black;background-color: white;}#sk-container-id-2 pre{padding: 0;}#sk-container-id-2 div.sk-toggleable {background-color: white;}#sk-container-id-2 label.sk-toggleable__label {cursor: pointer;display: block;width: 100%;margin-bottom: 0;padding: 0.3em;box-sizing: border-box;text-align: center;}#sk-container-id-2 label.sk-toggleable__label-arrow:before {content: \"▸\";float: left;margin-right: 0.25em;color: #696969;}#sk-container-id-2 label.sk-toggleable__label-arrow:hover:before {color: black;}#sk-container-id-2 div.sk-estimator:hover label.sk-toggleable__label-arrow:before {color: black;}#sk-container-id-2 div.sk-toggleable__content {max-height: 0;max-width: 0;overflow: hidden;text-align: left;background-color: #f0f8ff;}#sk-container-id-2 div.sk-toggleable__content pre {margin: 0.2em;color: black;border-radius: 0.25em;background-color: #f0f8ff;}#sk-container-id-2 input.sk-toggleable__control:checked~div.sk-toggleable__content {max-height: 200px;max-width: 100%;overflow: auto;}#sk-container-id-2 input.sk-toggleable__control:checked~label.sk-toggleable__label-arrow:before {content: \"▾\";}#sk-container-id-2 div.sk-estimator input.sk-toggleable__control:checked~label.sk-toggleable__label {background-color: #d4ebff;}#sk-container-id-2 div.sk-label input.sk-toggleable__control:checked~label.sk-toggleable__label {background-color: #d4ebff;}#sk-container-id-2 input.sk-hidden--visually {border: 0;clip: rect(1px 1px 1px 1px);clip: rect(1px, 1px, 1px, 1px);height: 1px;margin: -1px;overflow: hidden;padding: 0;position: absolute;width: 1px;}#sk-container-id-2 div.sk-estimator {font-family: monospace;background-color: #f0f8ff;border: 1px dotted black;border-radius: 0.25em;box-sizing: border-box;margin-bottom: 0.5em;}#sk-container-id-2 div.sk-estimator:hover {background-color: #d4ebff;}#sk-container-id-2 div.sk-parallel-item::after {content: \"\";width: 100%;border-bottom: 1px solid gray;flex-grow: 1;}#sk-container-id-2 div.sk-label:hover label.sk-toggleable__label {background-color: #d4ebff;}#sk-container-id-2 div.sk-serial::before {content: \"\";position: absolute;border-left: 1px solid gray;box-sizing: border-box;top: 0;bottom: 0;left: 50%;z-index: 0;}#sk-container-id-2 div.sk-serial {display: flex;flex-direction: column;align-items: center;background-color: white;padding-right: 0.2em;padding-left: 0.2em;position: relative;}#sk-container-id-2 div.sk-item {position: relative;z-index: 1;}#sk-container-id-2 div.sk-parallel {display: flex;align-items: stretch;justify-content: center;background-color: white;position: relative;}#sk-container-id-2 div.sk-item::before, #sk-container-id-2 div.sk-parallel-item::before {content: \"\";position: absolute;border-left: 1px solid gray;box-sizing: border-box;top: 0;bottom: 0;left: 50%;z-index: -1;}#sk-container-id-2 div.sk-parallel-item {display: flex;flex-direction: column;z-index: 1;position: relative;background-color: white;}#sk-container-id-2 div.sk-parallel-item:first-child::after {align-self: flex-end;width: 50%;}#sk-container-id-2 div.sk-parallel-item:last-child::after {align-self: flex-start;width: 50%;}#sk-container-id-2 div.sk-parallel-item:only-child::after {width: 0;}#sk-container-id-2 div.sk-dashed-wrapped {border: 1px dashed gray;margin: 0 0.4em 0.5em 0.4em;box-sizing: border-box;padding-bottom: 0.4em;background-color: white;}#sk-container-id-2 div.sk-label label {font-family: monospace;font-weight: bold;display: inline-block;line-height: 1.2em;}#sk-container-id-2 div.sk-label-container {text-align: center;}#sk-container-id-2 div.sk-container {/* jupyter's `normalize.less` sets `[hidden] { display: none; }` but bootstrap.min.css set `[hidden] { display: none !important; }` so we also need the `!important` here to be able to override the default hidden behavior on the sphinx rendered scikit-learn.org. See: https://github.com/scikit-learn/scikit-learn/issues/21755 */display: inline-block !important;position: relative;}#sk-container-id-2 div.sk-text-repr-fallback {display: none;}</style><div id=\"sk-container-id-2\" class=\"sk-top-container\"><div class=\"sk-text-repr-fallback\"><pre>LogisticRegression(multi_class=&#x27;multinomial&#x27;, random_state=0)</pre><b>In a Jupyter environment, please rerun this cell to show the HTML representation or trust the notebook. <br />On GitHub, the HTML representation is unable to render, please try loading this page with nbviewer.org.</b></div><div class=\"sk-container\" hidden><div class=\"sk-item\"><div class=\"sk-estimator sk-toggleable\"><input class=\"sk-toggleable__control sk-hidden--visually\" id=\"sk-estimator-id-2\" type=\"checkbox\" checked><label for=\"sk-estimator-id-2\" class=\"sk-toggleable__label sk-toggleable__label-arrow\">LogisticRegression</label><div class=\"sk-toggleable__content\"><pre>LogisticRegression(multi_class=&#x27;multinomial&#x27;, random_state=0)</pre></div></div></div></div></div>"
            ]
          },
          "metadata": {},
          "execution_count": 81
        }
      ]
    },
    {
      "cell_type": "code",
      "source": [
        "passwordCheck = input(\"Enter Password to check Strength: \")\n",
        "\n",
        "dt=np.array([passwordCheck])\n",
        "print(dt)\n",
        "pred=vectorizer.transform(dt)\n",
        "print(pred)\n",
        "x = clf.predict(pred)\n",
        "print(x)\n",
        "if x[0] == 0:\n",
        "  print(\"Your Password is Weak.\")\n",
        "elif x[0] == 1:\n",
        "  print(\"Your Password is Strong.\")\n",
        "else:\n",
        "  print(\"Your Password is Very Strong.\")"
      ],
      "metadata": {
        "colab": {
          "base_uri": "https://localhost:8080/"
        },
        "id": "fouqAOlNjW1C",
        "outputId": "a7130499-4154-431c-f0f3-f4f0e0d505d2"
      },
      "execution_count": null,
      "outputs": [
        {
          "output_type": "stream",
          "name": "stdout",
          "text": [
            "Enter Password to check Strength: test\n",
            "['test']\n",
            "  (0, 69)\t0.8438878383253353\n",
            "  (0, 68)\t0.40718369251489983\n",
            "  (0, 54)\t0.3493633593789199\n",
            "[0]\n",
            "Your Password is Weak.\n"
          ]
        }
      ]
    },
    {
      "cell_type": "code",
      "source": [
        "# save the model to disk\n",
        "import pickle\n",
        "filename = 'finalized_model.sav'\n",
        "pickle.dump(clf, open(filename, 'wb'))\n",
        " \n",
        "# some time later...\n",
        " \n",
        "# load the model from disk\n",
        "loaded_model = pickle.load(open(filename, 'rb'))\n",
        "result = loaded_model.score(X_test,y_test)"
      ],
      "metadata": {
        "id": "z1TaW_71jliT"
      },
      "execution_count": null,
      "outputs": []
    },
    {
      "cell_type": "code",
      "source": [
        "import joblib\n",
        "\n",
        "model = joblib.load('finalized_model.sav')\n",
        "\n",
        "new_data = 'tharusha';\n",
        "new_data2=np.array([new_data])\n",
        "new_data3=vectorizer.transform(new_data2)\n",
        "predicted = model.predict(new_data3)\n",
        "print(predicted)"
      ],
      "metadata": {
        "colab": {
          "base_uri": "https://localhost:8080/"
        },
        "id": "gU6vifEYkiD7",
        "outputId": "36a5a2c4-1e17-44e7-f764-67a87dd193a4"
      },
      "execution_count": 94,
      "outputs": [
        {
          "output_type": "stream",
          "name": "stdout",
          "text": [
            "[0]\n"
          ]
        }
      ]
    }
  ]
}